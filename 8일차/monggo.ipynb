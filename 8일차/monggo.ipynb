{
 "cells": [
  {
   "cell_type": "code",
   "execution_count": 10,
   "metadata": {},
   "outputs": [
    {
     "name": "stdout",
     "output_type": "stream",
     "text": [
      "Data inserted successfully\n"
     ]
    }
   ],
   "source": [
    "from pymongo import MongoClient\n",
    "from datetime import datetime\n",
    "\n",
    "client = MongoClient(\"mongodb://localhost:27017/\")\n",
    "db = client.local\n",
    "\n",
    "def insert_data():\n",
    "    client = MongoClient('mongodb://localhost:27017/')\n",
    "    db = client.local  # 'local' 데이터베이스 사용\n",
    "\n",
    "    # 책 데이터 삽입\n",
    "    books = [\n",
    "        {\"title\": \"Kafka on the Shore\", \"author\": \"Haruki Murakami\", \"year\": 2002},\n",
    "        {\"title\": \"Norwegian Wood\", \"author\": \"Haruki Murakami\", \"year\": 1987},\n",
    "        {\"title\": \"1Q84\", \"author\": \"Haruki Murakami\", \"year\": 2009}\n",
    "    ]\n",
    "    db.books.insert_many(books)\n",
    "\n",
    "    # 영화 데이터 삽입\n",
    "    movies = [\n",
    "        {\"title\": \"Inception\", \"director\": \"Christopher Nolan\", \"year\": 2010, \"rating\": 8.8},\n",
    "        {\"title\": \"Interstellar\", \"director\": \"Christopher Nolan\", \"year\": 2014, \"rating\": 8.6},\n",
    "        {\"title\": \"The Dark Knight\", \"director\": \"Christopher Nolan\", \"year\": 2008, \"rating\": 9.0}\n",
    "    ]\n",
    "    db.movies.insert_many(movies)\n",
    "\n",
    "    # 사용자 행동 데이터 삽입\n",
    "    user_actions = [\n",
    "        {\"user_id\": 1, \"action\": \"click\", \"timestamp\": datetime(2023, 4, 12, 8, 0)},\n",
    "        {\"user_id\": 1, \"action\": \"view\", \"timestamp\": datetime(2023, 4, 12, 9, 0)},\n",
    "        {\"user_id\": 2, \"action\": \"purchase\", \"timestamp\": datetime(2023, 4, 12, 10, 0)},\n",
    "    ]\n",
    "    db.user_actions.insert_many(user_actions)\n",
    "\n",
    "    print(\"Data inserted successfully\")\n",
    "    client.close()\n",
    "\n",
    "if __name__ == \"__main__\":\n",
    "    insert_data()\n"
   ]
  },
  {
   "cell_type": "code",
   "execution_count": 11,
   "metadata": {},
   "outputs": [],
   "source": [
    "def find_books_by_genre(genre):\n",
    "    results = db.books.find(\n",
    "        {\"genre\": genre},\n",
    "        {\"_id\": 0, \"title\": 1, \"author\": 1}\n",
    "    )\n",
    "    return list(results)\n"
   ]
  },
  {
   "cell_type": "code",
   "execution_count": 13,
   "metadata": {},
   "outputs": [],
   "source": [
    "def average_rating_by_director():\n",
    "    pipeline = [\n",
    "        {\"$group\": {\n",
    "            \"_id\": \"$director\",\n",
    "            \"average_rating\": {\"$avg\": \"$rating\"}\n",
    "        }},\n",
    "        {\"$sort\": {\"average_rating\": -1}}\n",
    "    ]\n",
    "    results = db.movies.aggregate(pipeline)\n",
    "    return list(results)\n"
   ]
  },
  {
   "cell_type": "code",
   "execution_count": 14,
   "metadata": {},
   "outputs": [],
   "source": [
    "def recent_user_actions(user_id, limit=5):\n",
    "    results = db.user_actions.find(\n",
    "        {\"user_id\": user_id}\n",
    "    ).sort(\"timestamp\", -1).limit(limit)\n",
    "    return list(results)\n"
   ]
  },
  {
   "cell_type": "code",
   "execution_count": 15,
   "metadata": {},
   "outputs": [],
   "source": [
    "def count_books_by_year():\n",
    "    pipeline = [\n",
    "        {\"$group\": {\n",
    "            \"_id\": \"$year\",\n",
    "            \"count\": {\"$sum\": 1}\n",
    "        }},\n",
    "        {\"$sort\": {\"count\": -1}}\n",
    "    ]\n",
    "    results = db.books.aggregate(pipeline)\n",
    "    return list(results)\n"
   ]
  },
  {
   "cell_type": "code",
   "execution_count": 16,
   "metadata": {},
   "outputs": [],
   "source": [
    "def update_user_view_to_seen(user_id, before_date):\n",
    "    result = db.user_actions.update_many(\n",
    "        {\n",
    "            \"user_id\": user_id,\n",
    "            \"action\": \"view\",\n",
    "            \"timestamp\": {\"$lt\": before_date}\n",
    "        },\n",
    "        {\"$set\": {\"action\": \"seen\"}}\n",
    "    )\n",
    "    return result.modified_count\n"
   ]
  },
  {
   "cell_type": "code",
   "execution_count": 17,
   "metadata": {},
   "outputs": [
    {
     "name": "stdout",
     "output_type": "stream",
     "text": [
      "Fantasy 장르 책:\n",
      "[]\n",
      "\n",
      "감독별 평균 평점:\n",
      "[{'_id': 'Christopher Nolan', 'average_rating': 8.799999999999999}]\n",
      "\n",
      "최근 사용자 행동:\n",
      "[{'_id': ObjectId('67e386748dffdaf4802dbc3c'), 'user_id': 1, 'action': 'view', 'timestamp': datetime.datetime(2023, 4, 12, 9, 0)}, {'_id': ObjectId('67e386748dffdaf4802dbc3b'), 'user_id': 1, 'action': 'click', 'timestamp': datetime.datetime(2023, 4, 12, 8, 0)}]\n",
      "\n",
      "연도별 책 수:\n",
      "[{'_id': 2002, 'count': 1}, {'_id': 2009, 'count': 1}, {'_id': 1987, 'count': 1}]\n",
      "\n",
      "행동 업데이트 수:\n",
      "1개 문서가 수정되었습니다.\n"
     ]
    }
   ],
   "source": [
    "if __name__ == \"__main__\":\n",
    "    print(\"Fantasy 장르 책:\")\n",
    "    print(find_books_by_genre(\"fantasy\"))\n",
    "\n",
    "    print(\"\\n감독별 평균 평점:\")\n",
    "    print(average_rating_by_director())\n",
    "\n",
    "    print(\"\\n최근 사용자 행동:\")\n",
    "    print(recent_user_actions(1))\n",
    "\n",
    "    print(\"\\n연도별 책 수:\")\n",
    "    print(count_books_by_year())\n",
    "\n",
    "    print(\"\\n행동 업데이트 수:\")\n",
    "    modified = update_user_view_to_seen(1, datetime(2023, 4, 13))\n",
    "    print(f\"{modified}개 문서가 수정되었습니다.\")\n"
   ]
  }
 ],
 "metadata": {
  "kernelspec": {
   "display_name": "venv",
   "language": "python",
   "name": "python3"
  },
  "language_info": {
   "codemirror_mode": {
    "name": "ipython",
    "version": 3
   },
   "file_extension": ".py",
   "mimetype": "text/x-python",
   "name": "python",
   "nbconvert_exporter": "python",
   "pygments_lexer": "ipython3",
   "version": "3.13.2"
  }
 },
 "nbformat": 4,
 "nbformat_minor": 2
}
